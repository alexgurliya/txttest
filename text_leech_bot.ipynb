import os
import shutil
from IPython.display import clear_output


# GitHub repository URL
GITHUB_URL = "https://github.com/alexgurliya/txttest.git"  # Updated URL
BRANCH_NAME = "main"  # Specify the branch name

# Base directory for cloning
base_dir = './repo'  # Save repo in ./repo directory relative to current directory

# Function to clone or update the repository
def clone_or_update_repo(repo_url, base_directory, branch_name):
    repo_name = os.path.basename(repo_url).replace('.git', '')
    project_dir = os.path.join(base_directory, repo_name)

    # Check if the repository directory exists
    if os.path.exists(project_dir):
        print(f"Deleting existing repository at: {project_dir} ...")
        shutil.rmtree(project_dir)
        print("Deleted existing repository successfully!")

    # Clone the repository from a specific branch
    print(f"Cloning repository from {repo_url} (branch: {branch_name})...")
    clone_cmd = f"git clone -b {branch_name} {repo_url} {project_dir}"
    os.system(clone_cmd)
    print("Repository cloned successfully!")

    return project_dir

# Clone or update the repository
project_dir = clone_or_update_repo(GITHUB_URL, base_dir, BRANCH_NAME)

# Navigate to the project directory
try:
    print(f"Entering project directory: {os.path.basename(project_dir)}...")
    os.chdir(project_dir)
    print("Entered project directory successfully!")
except FileNotFoundError as e:
    print(f"Error: {e}")
    raise

clear_output()

# Install required dependencies
PIP_INSTALL = "requirements.txt"  # Path to requirements file
print("Installing required dependencies...")
!pip install -r {PIP_INSTALL}
print("All requirements installed successfully!")

clear_output()

# Install FFMPEG
install_ffmpeg = "Yes"  # Prompt for FFMPEG installation
if install_ffmpeg == "Yes":
    print("Installing FFMPEG...")
    os.system("apt-get install ffmpeg -qq")  # Install ffmpeg quietly
    print("FFMPEG installed successfully!")
else:
    print("Skipping FFMPEG installation.")

#@markdown ### <font color=ORANGE>Environment Variables

API_ID = "23671274"  #@param {type:"string"}
os.environ['API_ID'] = API_ID

API_HASH = "09b9c07a023f7c13c2164f2b22bd937e"  #@param {type:"string"}
os.environ['API_HASH'] = API_HASH

BOT_TOKEN = "7982445331:AAHRPBFbpCpWcSV4Yl8svwhuwKGuHySTb90"  #@param {type:"string"}
os.environ['BOT_TOKEN'] = BOT_TOKEN

#@markdown
PORT = "8800"  #@param {type:"string"}
os.environ['PORT'] = PORT

clear_output()


# Command to run the bot
RUN_COMMAND = "python3 main.py"  # Path to your main script
print(f"Running command: {RUN_COMMAND} ...")
!{RUN_COMMAND}
print("Execution completed!")
